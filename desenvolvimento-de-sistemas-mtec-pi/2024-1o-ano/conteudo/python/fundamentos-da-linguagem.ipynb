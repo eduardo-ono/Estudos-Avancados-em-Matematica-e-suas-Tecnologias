{
 "cells": [
  {
   "cell_type": "markdown",
   "metadata": {},
   "source": [
    "<h1 align=\"center\">Python :: Fundamentos</h1>\n",
    "<h3 align=\"center\">Prof. Eduardo Ono</h3>\n",
    "<h5 align=\"center\">Atualizado em: 15/10/2024</h5>\n",
    "\n",
    "&nbsp;\n",
    "\n",
    "\n",
    "\n",
    "&nbsp;"
   ]
  },
  {
   "cell_type": "markdown",
   "metadata": {},
   "source": [
    "## Particularidades da Linguagem Python"
   ]
  },
  {
   "cell_type": "markdown",
   "metadata": {},
   "source": [
    "* \"Case sensitive\", ou seja, letras maiúsculas são diferentes de letras minúsculas;\n",
    "* As instruções não são separadas por ponto-e-vírgula, mas por final de linha;\n",
    "* A _endentação_ (\"identation\") é realizada por espaços (normalmente quatro);\n",
    "* Blocos de código são delimitados pela endentação e iniciados por `:`."
   ]
  },
  {
   "cell_type": "markdown",
   "metadata": {},
   "source": [
    "## Palavras Reservadas\n",
    "\n",
    "|  a - d   |  e - h  |  i - n   | o - s  | t - z |\n",
    "|:--------:|:-------:|:--------:|:------:|:-----:|\n",
    "|   and    |  elif   |    if    |   or   | while |\n",
    "|    as    |  else   |  import  |  pass  | with  |\n",
    "|  assert  | except  |    in    | raise  | yield |\n",
    "|  break   |  False  |    is    | return |       |\n",
    "|  class   | finally |  lambda  |  True  |       |\n",
    "| continue |   for   |   None   |  try   |       |\n",
    "|   def    |  from   | nonlocal |        |       |\n",
    "|   del    | global  |   not    |        |       |"
   ]
  },
  {
   "cell_type": "markdown",
   "metadata": {},
   "source": [
    "## Condicionais"
   ]
  },
  {
   "cell_type": "markdown",
   "metadata": {},
   "source": [
    "* ### if"
   ]
  },
  {
   "cell_type": "code",
   "execution_count": 14,
   "metadata": {},
   "outputs": [
    {
     "name": "stdout",
     "output_type": "stream",
     "text": [
      "Maior de idade\n"
     ]
    }
   ],
   "source": [
    "idade = 57\n",
    "if idade > 18:\n",
    "    print('Maior de idade')"
   ]
  },
  {
   "cell_type": "markdown",
   "metadata": {},
   "source": [
    "* ### if-else"
   ]
  },
  {
   "cell_type": "code",
   "execution_count": 15,
   "metadata": {},
   "outputs": [
    {
     "name": "stdout",
     "output_type": "stream",
     "text": [
      "Menor de idade.\n"
     ]
    }
   ],
   "source": [
    "idade = 16\n",
    "if (idade < 18):\n",
    "    print('Menor de idade.')\n",
    "else:\n",
    "    print('Maior de idade.')"
   ]
  },
  {
   "cell_type": "markdown",
   "metadata": {},
   "source": [
    "* ### elif"
   ]
  },
  {
   "cell_type": "code",
   "execution_count": 13,
   "metadata": {},
   "outputs": [
    {
     "name": "stdout",
     "output_type": "stream",
     "text": [
      "Adulto\n"
     ]
    }
   ],
   "source": [
    "idade = 49\n",
    "if (idade < 18):\n",
    "    print('Jovem')\n",
    "elif (idade < 65):\n",
    "    print('Adulto')\n",
    "else:\n",
    "    print('Idoso')"
   ]
  },
  {
   "cell_type": "code",
   "execution_count": 17,
   "metadata": {},
   "outputs": [
    {
     "name": "stdout",
     "output_type": "stream",
     "text": [
      "Conceito: B\n"
     ]
    }
   ],
   "source": [
    "nota = 7\n",
    "if nota < 4:\n",
    "    print('Conceito: I')\n",
    "elif nota < 6:\n",
    "    print('Conceito: R')\n",
    "elif nota < 8:\n",
    "    print('Conceito: B')\n",
    "else:\n",
    "    print('Conceito: MB')"
   ]
  },
  {
   "cell_type": "code",
   "execution_count": 18,
   "metadata": {},
   "outputs": [
    {
     "name": "stdout",
     "output_type": "stream",
     "text": [
      "IMC =  23.671253629592222\n",
      "Peso normal.\n"
     ]
    }
   ],
   "source": [
    "peso = 75\n",
    "altura = 1.78\n",
    "imc = peso / altura ** 2\n",
    "print('IMC = ', imc)\n",
    "if (imc < 18.5):\n",
    "    print('Abaixo do peso.')\n",
    "elif (imc < 25):\n",
    "    print('Peso normal.')\n",
    "else:\n",
    "    print('Acima do peso.')"
   ]
  },
  {
   "cell_type": "markdown",
   "metadata": {},
   "source": [
    "* ### Comando ternário"
   ]
  },
  {
   "cell_type": "code",
   "execution_count": 4,
   "metadata": {},
   "outputs": [
    {
     "name": "stdout",
     "output_type": "stream",
     "text": [
      "Maior de idade.\n"
     ]
    }
   ],
   "source": [
    "idade = 23\n",
    "print('Menor de idade.') if idade < 18 else print('Maior de idade.')"
   ]
  },
  {
   "cell_type": "markdown",
   "metadata": {},
   "source": [
    "&nbsp;\n",
    "## Instruções de Repetição"
   ]
  },
  {
   "cell_type": "markdown",
   "metadata": {},
   "source": [
    "* ### for\n",
    "\n",
    "| Linguagem | Java | Python |\n",
    "| :-- | :-- | :-- |\n",
    "| | `for (int i = 0; i < 10; i++) {`<br>&nbsp;&nbsp;&nbsp;&nbsp;`System.out.print(i + \" \");`<br>`}` | `for i in range(10):`<br> &nbsp; &nbsp;`print(i, end=' ')`|\n",
    "| Resultado | 0 1 2 3 4 5 6 7 8 9 | 0 1 2 3 4 5 6 7 8 9 |\n",
    "| | `for (int i = 4; i < 10; i++) {`<br>&nbsp;&nbsp;&nbsp;&nbsp;`System.out.print(i + \" \");`<br>`}` | `for i in range(4, 10):`<br> &nbsp; &nbsp;`print(i, end=' ')`|\n",
    "| Resultado | 4 5 6 7 8 9 | 4 5 6 7 8 9 |\n"
   ]
  },
  {
   "cell_type": "code",
   "execution_count": 12,
   "metadata": {},
   "outputs": [
    {
     "name": "stdout",
     "output_type": "stream",
     "text": [
      "0 2 4 6 8 10 12 14 16 18 20 22 24 26 28 "
     ]
    }
   ],
   "source": [
    "# Imprime todos os pares menores que 30\n",
    "for i in range(30):\n",
    "    if i % 2 == 0:\n",
    "        print(i, end=' ')"
   ]
  },
  {
   "cell_type": "markdown",
   "metadata": {},
   "source": []
  },
  {
   "cell_type": "markdown",
   "metadata": {},
   "source": [
    "* ### while\n",
    "\n",
    "| Linguagem | Java | Python |\n",
    "| :-- | :-- | :-- |\n",
    "| Resultado | 0 1 2 3 4 5 6 7 8 9 | 0 1 2 3 4 5 6 7 8 9 |\n",
    "| | `int i = 0;`<br>`while (i < 10) {`<br>&nbsp; &nbsp; `System.out.print(i + \" \")`<br>&nbsp; &nbsp; `i++; // i += 1;`<br>`}` | `i = 0`<br>`while i < 10:`<br>&nbsp; &nbsp; `print(i, end=' ')`<br>&nbsp; &nbsp; `i += 1` |\n",
    "| Obs. |  | `i += 1` é o mesmo que `i = i + 1` |\n",
    "| Resultado | 4 5 6 7 8 9 | 4 5 6 7 8 9 |\n",
    "| | `for (int i = 4; i < 10; i++) {`<br>&nbsp;&nbsp;&nbsp;&nbsp;`System.out.print(i + \" \")`<br>`}` | `for i in range(4, 10):`<br>&nbsp;&nbsp;&nbsp;&nbsp;`print(i, end=' ')`|\n"
   ]
  }
 ],
 "metadata": {
  "kernelspec": {
   "display_name": "base",
   "language": "python",
   "name": "python3"
  },
  "language_info": {
   "codemirror_mode": {
    "name": "ipython",
    "version": 3
   },
   "file_extension": ".py",
   "mimetype": "text/x-python",
   "name": "python",
   "nbconvert_exporter": "python",
   "pygments_lexer": "ipython3",
   "version": "3.12.1"
  }
 },
 "nbformat": 4,
 "nbformat_minor": 2
}
