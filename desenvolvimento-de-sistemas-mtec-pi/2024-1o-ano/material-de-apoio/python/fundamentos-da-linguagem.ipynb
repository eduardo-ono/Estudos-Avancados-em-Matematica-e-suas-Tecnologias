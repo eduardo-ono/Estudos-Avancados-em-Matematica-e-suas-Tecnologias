{
 "cells": [
  {
   "cell_type": "markdown",
   "metadata": {},
   "source": [
    "<h1 align=\"center\">Python :: Fundamentos</h1>\n",
    "<h3 align=\"center\">Prof. Eduardo Ono</h3>\n",
    "<h5 align=\"center\">Atualizado em: 15/10/2024</h5>\n",
    "\n",
    "&nbsp;\n",
    "\n",
    "\n",
    "\n",
    "&nbsp;"
   ]
  },
  {
   "cell_type": "markdown",
   "metadata": {},
   "source": [
    "## Particularidades da Linguagem Python"
   ]
  },
  {
   "cell_type": "markdown",
   "metadata": {},
   "source": [
    "* \"Case sensitive\", ou seja, letras maiúsculas são diferentes de letras minúsculas;\n",
    "* As instruções não são separadas por ponto-e-vírgula, mas por final de linha;\n",
    "* A _endentação_ (\"identation\") é realizada por espaços (normalmente quatro);\n",
    "* Blocos de código são delimitados pela endentação e iniciados por `:`."
   ]
  },
  {
   "cell_type": "markdown",
   "metadata": {},
   "source": [
    "## Palavras Reservadas\n",
    "\n",
    "|  a - d   |  e - h  |  i - n   | o - s  | t - z |\n",
    "|:--------:|:-------:|:--------:|:------:|:-----:|\n",
    "|   and    |  elif   |    if    |   or   | while |\n",
    "|    as    |  else   |  import  |  pass  | with  |\n",
    "|  assert  | except  |    in    | raise  | yield |\n",
    "|  break   |  False  |    is    | return |       |\n",
    "|  class   | finally |  lambda  |  True  |       |\n",
    "| continue |   for   |   None   |  try   |       |\n",
    "|   def    |  from   | nonlocal |        |       |\n",
    "|   del    | global  |   not    |        |       |"
   ]
  },
  {
   "cell_type": "markdown",
   "metadata": {},
   "source": [
    "## Condicionais\n",
    "\n",
    "### if\n",
    "\n",
    "### if-else\n",
    "\n",
    "### Comando ternário"
   ]
  },
  {
   "cell_type": "markdown",
   "metadata": {},
   "source": [
    "## Instruções de Repetição"
   ]
  },
  {
   "cell_type": "markdown",
   "metadata": {},
   "source": [
    "* ### for\n",
    "\n",
    "| Linguagem | Java | Python |\n",
    "| :-- | :-- | :-- |\n",
    "| | `for (int i = 0; i < 10; i++) {`<br>&nbsp;&nbsp;&nbsp;&nbsp;`System.out.print(i + \" \");`<br>`}` | `for i in range(10):`<br> &nbsp; &nbsp;`print(i, end=' ')`|\n",
    "| Resultado | 0 1 2 3 4 5 6 7 8 9 | 0 1 2 3 4 5 6 7 8 9 |\n",
    "| | `for (int i = 4; i < 10; i++) {`<br>&nbsp;&nbsp;&nbsp;&nbsp;`System.out.print(i + \" \");`<br>`}` | `for i in range(4, 10):`<br> &nbsp; &nbsp;`print(i, end=' ')`|\n",
    "| Resultado | 4 5 6 7 8 9 | 4 5 6 7 8 9 |\n"
   ]
  },
  {
   "cell_type": "markdown",
   "metadata": {},
   "source": [
    "* ### while\n",
    "\n",
    "| Linguagem | Java | Python |\n",
    "| :-- | :-- | :-- |\n",
    "| Resultado | 0 1 2 3 4 5 6 7 8 9 | 0 1 2 3 4 5 6 7 8 9 |\n",
    "| | `int i = 0;`<br>`while (i < 10) {`<br>&nbsp; &nbsp; `System.out.print(i + \" \")`<br>&nbsp; &nbsp; `i++; // i += 1;`<br>`}` | `i = 0`<br>`while i < 10:`<br>&nbsp; &nbsp; `print(i, end=' ')`<br>&nbsp; &nbsp; `i += 1` |\n",
    "| Obs. |  | `i += 1` é o mesmo que `i = i + 1` |\n",
    "| Resultado | 4 5 6 7 8 9 | 4 5 6 7 8 9 |\n",
    "| | `for (int i = 4; i < 10; i++) {`<br>&nbsp;&nbsp;&nbsp;&nbsp;`System.out.print(i + \" \")`<br>`}` | `for i in range(4, 10):`<br>&nbsp;&nbsp;&nbsp;&nbsp;`print(i, end=' ')`|\n"
   ]
  }
 ],
 "metadata": {
  "kernelspec": {
   "display_name": "base",
   "language": "python",
   "name": "python3"
  },
  "language_info": {
   "name": "python",
   "version": "3.12.1"
  }
 },
 "nbformat": 4,
 "nbformat_minor": 2
}
