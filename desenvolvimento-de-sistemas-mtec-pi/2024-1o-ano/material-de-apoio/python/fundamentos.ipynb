{
 "cells": [
  {
   "cell_type": "markdown",
   "metadata": {},
   "source": [
    "<h1 align=\"center\">Python :: Fundamentos</h1>\n",
    "<h3 align=\"center\">Prof. Eduardo Ono</h3>\n",
    "<h5 align=\"center\">Atualizado em: 15/10/2024</h5>\n",
    "\n",
    "&nbsp;\n",
    "\n",
    "\n",
    "\n",
    "&nbsp;"
   ]
  },
  {
   "cell_type": "markdown",
   "metadata": {},
   "source": [
    "## Palavras Reservadas\n",
    "\n",
    "|  a - d   |  e - h  |  i - n   | o - s  | t - z |\n",
    "|:--------:|:-------:|:--------:|:------:|:-----:|\n",
    "|   and    |  elif   |    if    |   or   | while |\n",
    "|    as    |  else   |  import  |  pass  | with  |\n",
    "|  assert  | except  |    in    | raise  | yield |\n",
    "|  break   |  False  |    is    | return |       |\n",
    "|  class   | finally |  lambda  |  True  |       |\n",
    "| continue |   for   |   None   |  try   |       |\n",
    "|   def    |  from   | nonlocal |        |       |\n",
    "|   del    | global  |   not    |        |       |"
   ]
  }
 ],
 "metadata": {
  "kernelspec": {
   "display_name": "base",
   "language": "python",
   "name": "python3"
  },
  "language_info": {
   "name": "python",
   "version": "3.12.1"
  }
 },
 "nbformat": 4,
 "nbformat_minor": 2
}
