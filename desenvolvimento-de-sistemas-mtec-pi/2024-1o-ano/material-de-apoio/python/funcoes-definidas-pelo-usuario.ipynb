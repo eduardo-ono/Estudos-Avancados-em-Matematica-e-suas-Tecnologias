{
 "cells": [
  {
   "cell_type": "markdown",
   "metadata": {},
   "source": [
    "<h1 align=\"center\">Funções Definidas pelo Usuário</h1>\n",
    "<h3 align=\"center\">Prof. Eduardo Ono</h3>\n",
    "<h5 align=\"center\">Atualizado em: 28/10/2024</h5>"
   ]
  },
  {
   "cell_type": "markdown",
   "metadata": {},
   "source": [
    "## Vídeos de Apoio"
   ]
  },
  {
   "cell_type": "markdown",
   "metadata": {},
   "source": [
    "| Thumb | Descrição |\n",
    "| :-: | --- |\n",
    "| ![img](https://img.youtube.com/vi/kYnPpUn8_kA/default.jpg) | <sup>[Refatorando]</sup><br>[__Curso de Python para iniciantes #07 - Funções__](https://www.youtube.com/watch?v=kYnPpUn8_kA)<br><sub>(22:56, YouTube, Nov/2020)</sub> |"
   ]
  }
 ],
 "metadata": {
  "kernelspec": {
   "display_name": "base",
   "language": "python",
   "name": "python3"
  },
  "language_info": {
   "name": "python",
   "version": "3.12.1"
  }
 },
 "nbformat": 4,
 "nbformat_minor": 2
}
